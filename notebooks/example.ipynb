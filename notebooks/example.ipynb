{
 "cells": [
  {
   "cell_type": "markdown",
   "metadata": {},
   "source": [
    {% if cookiecutter.package_manager == 'poetry' %}
    "You can use your module `{{ cookiecutter.module_name }}` from here, provided you're running the jupyter server using `poetry run jupyter notebook` from the root of this project directory."
    {% else %}
    "To use your module `{{ cookiecutter.module_name  }}` from here, run `pip install -e .` from the root of your project directory."
    {% endif %}
   ]
  },
  {
   "cell_type": "code",
   "execution_count": null,
   "metadata": {},
   "outputs": [],
   "source": []
  }
 ],
 "metadata": {
  "language_info": {
   "file_extension": ".py",
   "name": "python"
  }
 },
 "nbformat": 4,
 "nbformat_minor": 4
}
